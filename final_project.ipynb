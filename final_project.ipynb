{
 "cells": [
  {
   "cell_type": "code",
   "execution_count": 1325,
   "id": "0fb1b8c8",
   "metadata": {},
   "outputs": [],
   "source": [
    "import plotly as pl\n",
    "from dash import Dash, dcc, html\n",
    "import dash_bootstrap_components as dbc\n",
    "from dash.dependencies import Input, Output\n",
    "from dash.exceptions import PreventUpdate\n",
    "import plotly.express as px\n",
    "import pandas as pd\n",
    "import seaborn as sns\n",
    "from dash_bootstrap_templates import load_figure_template\n",
    "\n",
    "app = Dash(__name__, external_stylesheets=[dbc.themes.SLATE])\n",
    "\n",
    "load_figure_template(\"SLATE\")"
   ]
  },
  {
   "cell_type": "code",
   "execution_count": 1326,
   "id": "beaddd94",
   "metadata": {},
   "outputs": [
    {
     "data": {
      "text/html": [
       "<div>\n",
       "<style scoped>\n",
       "    .dataframe tbody tr th:only-of-type {\n",
       "        vertical-align: middle;\n",
       "    }\n",
       "\n",
       "    .dataframe tbody tr th {\n",
       "        vertical-align: top;\n",
       "    }\n",
       "\n",
       "    .dataframe thead th {\n",
       "        text-align: right;\n",
       "    }\n",
       "</style>\n",
       "<table border=\"1\" class=\"dataframe\">\n",
       "  <thead>\n",
       "    <tr style=\"text-align: right;\">\n",
       "      <th></th>\n",
       "      <th>ID</th>\n",
       "      <th>Resort</th>\n",
       "      <th>Latitude</th>\n",
       "      <th>Longitude</th>\n",
       "      <th>Country</th>\n",
       "      <th>Continent</th>\n",
       "      <th>Price</th>\n",
       "      <th>Season</th>\n",
       "      <th>Highest point</th>\n",
       "      <th>Lowest point</th>\n",
       "      <th>...</th>\n",
       "      <th>Total lifts</th>\n",
       "      <th>Lift capacity</th>\n",
       "      <th>Child friendly</th>\n",
       "      <th>Snowparks</th>\n",
       "      <th>Nightskiing</th>\n",
       "      <th>Summer skiing</th>\n",
       "      <th>country_elevation_rank</th>\n",
       "      <th>country_price_rank</th>\n",
       "      <th>country_slope_rank</th>\n",
       "      <th>country_cannon_rank</th>\n",
       "    </tr>\n",
       "  </thead>\n",
       "  <tbody>\n",
       "    <tr>\n",
       "      <th>0</th>\n",
       "      <td>1</td>\n",
       "      <td>Hemsedal</td>\n",
       "      <td>60.928244</td>\n",
       "      <td>8.383487</td>\n",
       "      <td>Norway</td>\n",
       "      <td>Europe</td>\n",
       "      <td>46</td>\n",
       "      <td>November - May</td>\n",
       "      <td>1450</td>\n",
       "      <td>620</td>\n",
       "      <td>...</td>\n",
       "      <td>21</td>\n",
       "      <td>22921</td>\n",
       "      <td>Yes</td>\n",
       "      <td>Yes</td>\n",
       "      <td>Yes</td>\n",
       "      <td>No</td>\n",
       "      <td>2.0</td>\n",
       "      <td>1.5</td>\n",
       "      <td>4.0</td>\n",
       "      <td>2.0</td>\n",
       "    </tr>\n",
       "    <tr>\n",
       "      <th>1</th>\n",
       "      <td>2</td>\n",
       "      <td>Geilosiden Geilo</td>\n",
       "      <td>60.534526</td>\n",
       "      <td>8.206372</td>\n",
       "      <td>Norway</td>\n",
       "      <td>Europe</td>\n",
       "      <td>44</td>\n",
       "      <td>November - April</td>\n",
       "      <td>1178</td>\n",
       "      <td>800</td>\n",
       "      <td>...</td>\n",
       "      <td>24</td>\n",
       "      <td>14225</td>\n",
       "      <td>Yes</td>\n",
       "      <td>Yes</td>\n",
       "      <td>Yes</td>\n",
       "      <td>No</td>\n",
       "      <td>4.0</td>\n",
       "      <td>6.0</td>\n",
       "      <td>6.5</td>\n",
       "      <td>4.0</td>\n",
       "    </tr>\n",
       "    <tr>\n",
       "      <th>2</th>\n",
       "      <td>3</td>\n",
       "      <td>Golm</td>\n",
       "      <td>47.057810</td>\n",
       "      <td>9.828167</td>\n",
       "      <td>Austria</td>\n",
       "      <td>Europe</td>\n",
       "      <td>48</td>\n",
       "      <td>December - April</td>\n",
       "      <td>2110</td>\n",
       "      <td>650</td>\n",
       "      <td>...</td>\n",
       "      <td>11</td>\n",
       "      <td>16240</td>\n",
       "      <td>Yes</td>\n",
       "      <td>No</td>\n",
       "      <td>No</td>\n",
       "      <td>No</td>\n",
       "      <td>37.0</td>\n",
       "      <td>31.5</td>\n",
       "      <td>63.0</td>\n",
       "      <td>45.0</td>\n",
       "    </tr>\n",
       "    <tr>\n",
       "      <th>3</th>\n",
       "      <td>4</td>\n",
       "      <td>Red Mountain Resort-Rossland</td>\n",
       "      <td>49.105520</td>\n",
       "      <td>-117.846280</td>\n",
       "      <td>Canada</td>\n",
       "      <td>North America</td>\n",
       "      <td>60</td>\n",
       "      <td>December - April</td>\n",
       "      <td>2075</td>\n",
       "      <td>1185</td>\n",
       "      <td>...</td>\n",
       "      <td>8</td>\n",
       "      <td>9200</td>\n",
       "      <td>Yes</td>\n",
       "      <td>Yes</td>\n",
       "      <td>Yes</td>\n",
       "      <td>No</td>\n",
       "      <td>13.0</td>\n",
       "      <td>13.0</td>\n",
       "      <td>5.0</td>\n",
       "      <td>15.0</td>\n",
       "    </tr>\n",
       "    <tr>\n",
       "      <th>4</th>\n",
       "      <td>5</td>\n",
       "      <td>Hafjell</td>\n",
       "      <td>61.230369</td>\n",
       "      <td>10.529014</td>\n",
       "      <td>Norway</td>\n",
       "      <td>Europe</td>\n",
       "      <td>45</td>\n",
       "      <td>November - April</td>\n",
       "      <td>1030</td>\n",
       "      <td>195</td>\n",
       "      <td>...</td>\n",
       "      <td>18</td>\n",
       "      <td>21060</td>\n",
       "      <td>Yes</td>\n",
       "      <td>Yes</td>\n",
       "      <td>Yes</td>\n",
       "      <td>No</td>\n",
       "      <td>9.0</td>\n",
       "      <td>3.5</td>\n",
       "      <td>3.0</td>\n",
       "      <td>3.0</td>\n",
       "    </tr>\n",
       "  </tbody>\n",
       "</table>\n",
       "<p>5 rows × 29 columns</p>\n",
       "</div>"
      ],
      "text/plain": [
       "   ID                        Resort   Latitude   Longitude  Country  \\\n",
       "0   1                      Hemsedal  60.928244    8.383487   Norway   \n",
       "1   2              Geilosiden Geilo  60.534526    8.206372   Norway   \n",
       "2   3                          Golm  47.057810    9.828167  Austria   \n",
       "3   4  Red Mountain Resort-Rossland  49.105520 -117.846280   Canada   \n",
       "4   5                       Hafjell  61.230369   10.529014   Norway   \n",
       "\n",
       "       Continent  Price            Season  Highest point  Lowest point  ...  \\\n",
       "0         Europe     46    November - May           1450           620  ...   \n",
       "1         Europe     44  November - April           1178           800  ...   \n",
       "2         Europe     48  December - April           2110           650  ...   \n",
       "3  North America     60  December - April           2075          1185  ...   \n",
       "4         Europe     45  November - April           1030           195  ...   \n",
       "\n",
       "   Total lifts  Lift capacity  Child friendly  Snowparks  Nightskiing  \\\n",
       "0           21          22921             Yes        Yes          Yes   \n",
       "1           24          14225             Yes        Yes          Yes   \n",
       "2           11          16240             Yes         No           No   \n",
       "3            8           9200             Yes        Yes          Yes   \n",
       "4           18          21060             Yes        Yes          Yes   \n",
       "\n",
       "   Summer skiing  country_elevation_rank  country_price_rank  \\\n",
       "0             No                     2.0                 1.5   \n",
       "1             No                     4.0                 6.0   \n",
       "2             No                    37.0                31.5   \n",
       "3             No                    13.0                13.0   \n",
       "4             No                     9.0                 3.5   \n",
       "\n",
       "   country_slope_rank  country_cannon_rank  \n",
       "0                 4.0                  2.0  \n",
       "1                 6.5                  4.0  \n",
       "2                63.0                 45.0  \n",
       "3                 5.0                 15.0  \n",
       "4                 3.0                  3.0  \n",
       "\n",
       "[5 rows x 29 columns]"
      ]
     },
     "execution_count": 1326,
     "metadata": {},
     "output_type": "execute_result"
    }
   ],
   "source": [
    "resorts = (\n",
    "    pd.read_csv(\"Data/Ski Resorts/resorts.csv\", encoding=\"ISO-8859-1\")\n",
    "    .assign(\n",
    "        country_elevation_rank=lambda x: x.groupby(\"Country\", as_index=False)[\n",
    "            \"Highest point\"].rank(ascending=False),\n",
    "        country_price_rank=lambda x: x.groupby(\"Country\", as_index=False)[\n",
    "            \"Price\"].rank(ascending=False),\n",
    "        country_slope_rank=lambda x: x.groupby(\"Country\", as_index=False)[\n",
    "            \"Total slopes\"].rank(ascending=False),\n",
    "        country_cannon_rank=lambda x: x.groupby(\"Country\", as_index=False)[\n",
    "            \"Snow cannons\"].rank(ascending=False),\n",
    "    ))\n",
    "resorts.head()"
   ]
  },
  {
   "cell_type": "code",
   "execution_count": 1327,
   "id": "3103079a",
   "metadata": {},
   "outputs": [
    {
     "data": {
      "text/plain": [
       "Index(['ID', 'Resort', 'Latitude', 'Longitude', 'Country', 'Continent',\n",
       "       'Price', 'Season', 'Highest point', 'Lowest point', 'Beginner slopes',\n",
       "       'Intermediate slopes', 'Difficult slopes', 'Total slopes',\n",
       "       'Longest run', 'Snow cannons', 'Surface lifts', 'Chair lifts',\n",
       "       'Gondola lifts', 'Total lifts', 'Lift capacity', 'Child friendly',\n",
       "       'Snowparks', 'Nightskiing', 'Summer skiing', 'country_elevation_rank',\n",
       "       'country_price_rank', 'country_slope_rank', 'country_cannon_rank'],\n",
       "      dtype='object')"
      ]
     },
     "execution_count": 1327,
     "metadata": {},
     "output_type": "execute_result"
    }
   ],
   "source": [
    "resorts.columns"
   ]
  },
  {
   "cell_type": "code",
   "execution_count": 1328,
   "id": "b7c434c7",
   "metadata": {},
   "outputs": [
    {
     "data": {
      "text/html": [
       "<div>\n",
       "<style scoped>\n",
       "    .dataframe tbody tr th:only-of-type {\n",
       "        vertical-align: middle;\n",
       "    }\n",
       "\n",
       "    .dataframe tbody tr th {\n",
       "        vertical-align: top;\n",
       "    }\n",
       "\n",
       "    .dataframe thead th {\n",
       "        text-align: right;\n",
       "    }\n",
       "</style>\n",
       "<table border=\"1\" class=\"dataframe\">\n",
       "  <thead>\n",
       "    <tr style=\"text-align: right;\">\n",
       "      <th></th>\n",
       "      <th>ID</th>\n",
       "      <th>Resort</th>\n",
       "      <th>Latitude</th>\n",
       "      <th>Longitude</th>\n",
       "      <th>Country</th>\n",
       "      <th>Continent</th>\n",
       "      <th>Price</th>\n",
       "      <th>Season</th>\n",
       "      <th>Highest point</th>\n",
       "      <th>Lowest point</th>\n",
       "      <th>...</th>\n",
       "      <th>Total lifts</th>\n",
       "      <th>Lift capacity</th>\n",
       "      <th>Child friendly</th>\n",
       "      <th>Snowparks</th>\n",
       "      <th>Nightskiing</th>\n",
       "      <th>Summer skiing</th>\n",
       "      <th>country_elevation_rank</th>\n",
       "      <th>country_price_rank</th>\n",
       "      <th>country_slope_rank</th>\n",
       "      <th>country_cannon_rank</th>\n",
       "    </tr>\n",
       "  </thead>\n",
       "  <tbody>\n",
       "    <tr>\n",
       "      <th>0</th>\n",
       "      <td>1</td>\n",
       "      <td>Hemsedal</td>\n",
       "      <td>60.928244</td>\n",
       "      <td>8.383487</td>\n",
       "      <td>Norway</td>\n",
       "      <td>Europe</td>\n",
       "      <td>46</td>\n",
       "      <td>November - May</td>\n",
       "      <td>1450</td>\n",
       "      <td>620</td>\n",
       "      <td>...</td>\n",
       "      <td>21</td>\n",
       "      <td>22921</td>\n",
       "      <td>Yes</td>\n",
       "      <td>True</td>\n",
       "      <td>True</td>\n",
       "      <td>False</td>\n",
       "      <td>2.0</td>\n",
       "      <td>1.5</td>\n",
       "      <td>4.0</td>\n",
       "      <td>2.0</td>\n",
       "    </tr>\n",
       "    <tr>\n",
       "      <th>1</th>\n",
       "      <td>2</td>\n",
       "      <td>Geilosiden Geilo</td>\n",
       "      <td>60.534526</td>\n",
       "      <td>8.206372</td>\n",
       "      <td>Norway</td>\n",
       "      <td>Europe</td>\n",
       "      <td>44</td>\n",
       "      <td>November - April</td>\n",
       "      <td>1178</td>\n",
       "      <td>800</td>\n",
       "      <td>...</td>\n",
       "      <td>24</td>\n",
       "      <td>14225</td>\n",
       "      <td>Yes</td>\n",
       "      <td>True</td>\n",
       "      <td>True</td>\n",
       "      <td>False</td>\n",
       "      <td>4.0</td>\n",
       "      <td>6.0</td>\n",
       "      <td>6.5</td>\n",
       "      <td>4.0</td>\n",
       "    </tr>\n",
       "    <tr>\n",
       "      <th>2</th>\n",
       "      <td>3</td>\n",
       "      <td>Golm</td>\n",
       "      <td>47.057810</td>\n",
       "      <td>9.828167</td>\n",
       "      <td>Austria</td>\n",
       "      <td>Europe</td>\n",
       "      <td>48</td>\n",
       "      <td>December - April</td>\n",
       "      <td>2110</td>\n",
       "      <td>650</td>\n",
       "      <td>...</td>\n",
       "      <td>11</td>\n",
       "      <td>16240</td>\n",
       "      <td>Yes</td>\n",
       "      <td>False</td>\n",
       "      <td>False</td>\n",
       "      <td>False</td>\n",
       "      <td>37.0</td>\n",
       "      <td>31.5</td>\n",
       "      <td>63.0</td>\n",
       "      <td>45.0</td>\n",
       "    </tr>\n",
       "    <tr>\n",
       "      <th>3</th>\n",
       "      <td>4</td>\n",
       "      <td>Red Mountain Resort-Rossland</td>\n",
       "      <td>49.105520</td>\n",
       "      <td>-117.846280</td>\n",
       "      <td>Canada</td>\n",
       "      <td>North America</td>\n",
       "      <td>60</td>\n",
       "      <td>December - April</td>\n",
       "      <td>2075</td>\n",
       "      <td>1185</td>\n",
       "      <td>...</td>\n",
       "      <td>8</td>\n",
       "      <td>9200</td>\n",
       "      <td>Yes</td>\n",
       "      <td>True</td>\n",
       "      <td>True</td>\n",
       "      <td>False</td>\n",
       "      <td>13.0</td>\n",
       "      <td>13.0</td>\n",
       "      <td>5.0</td>\n",
       "      <td>15.0</td>\n",
       "    </tr>\n",
       "    <tr>\n",
       "      <th>4</th>\n",
       "      <td>5</td>\n",
       "      <td>Hafjell</td>\n",
       "      <td>61.230369</td>\n",
       "      <td>10.529014</td>\n",
       "      <td>Norway</td>\n",
       "      <td>Europe</td>\n",
       "      <td>45</td>\n",
       "      <td>November - April</td>\n",
       "      <td>1030</td>\n",
       "      <td>195</td>\n",
       "      <td>...</td>\n",
       "      <td>18</td>\n",
       "      <td>21060</td>\n",
       "      <td>Yes</td>\n",
       "      <td>True</td>\n",
       "      <td>True</td>\n",
       "      <td>False</td>\n",
       "      <td>9.0</td>\n",
       "      <td>3.5</td>\n",
       "      <td>3.0</td>\n",
       "      <td>3.0</td>\n",
       "    </tr>\n",
       "  </tbody>\n",
       "</table>\n",
       "<p>5 rows × 29 columns</p>\n",
       "</div>"
      ],
      "text/plain": [
       "   ID                        Resort   Latitude   Longitude  Country  \\\n",
       "0   1                      Hemsedal  60.928244    8.383487   Norway   \n",
       "1   2              Geilosiden Geilo  60.534526    8.206372   Norway   \n",
       "2   3                          Golm  47.057810    9.828167  Austria   \n",
       "3   4  Red Mountain Resort-Rossland  49.105520 -117.846280   Canada   \n",
       "4   5                       Hafjell  61.230369   10.529014   Norway   \n",
       "\n",
       "       Continent  Price            Season  Highest point  Lowest point  ...  \\\n",
       "0         Europe     46    November - May           1450           620  ...   \n",
       "1         Europe     44  November - April           1178           800  ...   \n",
       "2         Europe     48  December - April           2110           650  ...   \n",
       "3  North America     60  December - April           2075          1185  ...   \n",
       "4         Europe     45  November - April           1030           195  ...   \n",
       "\n",
       "   Total lifts  Lift capacity  Child friendly  Snowparks  Nightskiing  \\\n",
       "0           21          22921             Yes       True         True   \n",
       "1           24          14225             Yes       True         True   \n",
       "2           11          16240             Yes      False        False   \n",
       "3            8           9200             Yes       True         True   \n",
       "4           18          21060             Yes       True         True   \n",
       "\n",
       "   Summer skiing  country_elevation_rank  country_price_rank  \\\n",
       "0          False                     2.0                 1.5   \n",
       "1          False                     4.0                 6.0   \n",
       "2          False                    37.0                31.5   \n",
       "3          False                    13.0                13.0   \n",
       "4          False                     9.0                 3.5   \n",
       "\n",
       "   country_slope_rank  country_cannon_rank  \n",
       "0                 4.0                  2.0  \n",
       "1                 6.5                  4.0  \n",
       "2                63.0                 45.0  \n",
       "3                 5.0                 15.0  \n",
       "4                 3.0                  3.0  \n",
       "\n",
       "[5 rows x 29 columns]"
      ]
     },
     "execution_count": 1328,
     "metadata": {},
     "output_type": "execute_result"
    }
   ],
   "source": [
    "resorts['Snowparks'] = resorts['Snowparks'].map({'Yes': True, 'No': False})\n",
    "resorts['Nightskiing'] = resorts['Nightskiing'].map({'Yes': True, 'No': False})\n",
    "resorts['Summer skiing'] = resorts['Summer skiing'].map({'Yes': True, 'No': False})\n",
    "resorts.head()"
   ]
  },
  {
   "cell_type": "code",
   "execution_count": 1329,
   "id": "70be60eb",
   "metadata": {},
   "outputs": [
    {
     "data": {
      "text/plain": [
       "'1'"
      ]
     },
     "execution_count": 1329,
     "metadata": {},
     "output_type": "execute_result"
    }
   ],
   "source": [
    "con = resorts[resorts['Resort'] == 'Nevis Range'].copy()\n",
    "\n",
    "str(int(con['country_price_rank'].iloc[0]))"
   ]
  },
  {
   "cell_type": "code",
   "execution_count": 1330,
   "id": "ef549d7e",
   "metadata": {},
   "outputs": [
    {
     "name": "stdout",
     "output_type": "stream",
     "text": [
      "['Norway', 'Austria', 'Germany', 'Switzerland', 'Italy', 'France', 'United Kingdom', 'Andorra', 'Finland', 'Slovenia', 'Bulgaria', 'Spain', 'Sweden', 'Russia', 'Ukraine', 'Serbia', 'Slovakia', 'Poland', 'Bosnia and Herzegovina', 'Czech Republic', 'Romania', 'Greece', 'Liechtenstein', 'Lithuania']\n"
     ]
    }
   ],
   "source": [
    "\n",
    "def continents_to_countries(option, df):\n",
    "    continents_hashmap = {}\n",
    "    continents = list(df['Continent'].unique())\n",
    "\n",
    "    for continent in continents:\n",
    "        con = df[df['Continent'] == continent]\n",
    "        countries = list(con['Country'].unique())\n",
    "        continents_hashmap[continent] = countries\n",
    "\n",
    "\n",
    "    return continents_hashmap.get(option)\n",
    "\n",
    "\n",
    "print(continents_to_countries('Europe', resorts))"
   ]
  },
  {
   "cell_type": "code",
   "execution_count": 1331,
   "id": "06274999",
   "metadata": {},
   "outputs": [
    {
     "data": {
      "application/vnd.plotly.v1+json": {
       "config": {
        "plotlyServerURL": "https://plot.ly"
       },
       "data": [
        {
         "hovertemplate": "Resort=%{x}<br>Price=%{y}<extra></extra>",
         "legendgroup": "",
         "marker": {
          "color": "#5d6167",
          "pattern": {
           "shape": ""
          }
         },
         "name": "",
         "orientation": "v",
         "showlegend": false,
         "textposition": "auto",
         "type": "bar",
         "x": [
          "Beaver Creek",
          "Breckenridge",
          "Vail",
          "Snowmass",
          "Aspen Mountain",
          "Aspen Highlands",
          "Northstar California Resort",
          "Steamboat",
          "Keystone",
          "Heavenly"
         ],
         "xaxis": "x",
         "y": {
          "bdata": "jQCMAH8AfAB8AHwAeAB4AHgAeAA=",
          "dtype": "i2"
         },
         "yaxis": "y"
        }
       ],
       "layout": {
        "barmode": "relative",
        "legend": {
         "tracegroupgap": 0
        },
        "margin": {
         "t": 60
        },
        "template": {
         "data": {
          "bar": [
           {
            "error_x": {
             "color": "#f2f5fa"
            },
            "error_y": {
             "color": "#f2f5fa"
            },
            "marker": {
             "line": {
              "color": "rgb(17,17,17)",
              "width": 0.5
             },
             "pattern": {
              "fillmode": "overlay",
              "size": 10,
              "solidity": 0.2
             }
            },
            "type": "bar"
           }
          ],
          "barpolar": [
           {
            "marker": {
             "line": {
              "color": "rgb(17,17,17)",
              "width": 0.5
             },
             "pattern": {
              "fillmode": "overlay",
              "size": 10,
              "solidity": 0.2
             }
            },
            "type": "barpolar"
           }
          ],
          "carpet": [
           {
            "aaxis": {
             "endlinecolor": "#A2B1C6",
             "gridcolor": "#506784",
             "linecolor": "#506784",
             "minorgridcolor": "#506784",
             "startlinecolor": "#A2B1C6"
            },
            "baxis": {
             "endlinecolor": "#A2B1C6",
             "gridcolor": "#506784",
             "linecolor": "#506784",
             "minorgridcolor": "#506784",
             "startlinecolor": "#A2B1C6"
            },
            "type": "carpet"
           }
          ],
          "choropleth": [
           {
            "colorbar": {
             "outlinewidth": 0,
             "ticks": ""
            },
            "type": "choropleth"
           }
          ],
          "contour": [
           {
            "colorbar": {
             "outlinewidth": 0,
             "ticks": ""
            },
            "colorscale": [
             [
              0,
              "#0d0887"
             ],
             [
              0.1111111111111111,
              "#46039f"
             ],
             [
              0.2222222222222222,
              "#7201a8"
             ],
             [
              0.3333333333333333,
              "#9c179e"
             ],
             [
              0.4444444444444444,
              "#bd3786"
             ],
             [
              0.5555555555555556,
              "#d8576b"
             ],
             [
              0.6666666666666666,
              "#ed7953"
             ],
             [
              0.7777777777777778,
              "#fb9f3a"
             ],
             [
              0.8888888888888888,
              "#fdca26"
             ],
             [
              1,
              "#f0f921"
             ]
            ],
            "type": "contour"
           }
          ],
          "contourcarpet": [
           {
            "colorbar": {
             "outlinewidth": 0,
             "ticks": ""
            },
            "type": "contourcarpet"
           }
          ],
          "heatmap": [
           {
            "colorbar": {
             "outlinewidth": 0,
             "ticks": ""
            },
            "colorscale": [
             [
              0,
              "#0d0887"
             ],
             [
              0.1111111111111111,
              "#46039f"
             ],
             [
              0.2222222222222222,
              "#7201a8"
             ],
             [
              0.3333333333333333,
              "#9c179e"
             ],
             [
              0.4444444444444444,
              "#bd3786"
             ],
             [
              0.5555555555555556,
              "#d8576b"
             ],
             [
              0.6666666666666666,
              "#ed7953"
             ],
             [
              0.7777777777777778,
              "#fb9f3a"
             ],
             [
              0.8888888888888888,
              "#fdca26"
             ],
             [
              1,
              "#f0f921"
             ]
            ],
            "type": "heatmap"
           }
          ],
          "histogram": [
           {
            "marker": {
             "pattern": {
              "fillmode": "overlay",
              "size": 10,
              "solidity": 0.2
             }
            },
            "type": "histogram"
           }
          ],
          "histogram2d": [
           {
            "colorbar": {
             "outlinewidth": 0,
             "ticks": ""
            },
            "colorscale": [
             [
              0,
              "#0d0887"
             ],
             [
              0.1111111111111111,
              "#46039f"
             ],
             [
              0.2222222222222222,
              "#7201a8"
             ],
             [
              0.3333333333333333,
              "#9c179e"
             ],
             [
              0.4444444444444444,
              "#bd3786"
             ],
             [
              0.5555555555555556,
              "#d8576b"
             ],
             [
              0.6666666666666666,
              "#ed7953"
             ],
             [
              0.7777777777777778,
              "#fb9f3a"
             ],
             [
              0.8888888888888888,
              "#fdca26"
             ],
             [
              1,
              "#f0f921"
             ]
            ],
            "type": "histogram2d"
           }
          ],
          "histogram2dcontour": [
           {
            "colorbar": {
             "outlinewidth": 0,
             "ticks": ""
            },
            "colorscale": [
             [
              0,
              "#0d0887"
             ],
             [
              0.1111111111111111,
              "#46039f"
             ],
             [
              0.2222222222222222,
              "#7201a8"
             ],
             [
              0.3333333333333333,
              "#9c179e"
             ],
             [
              0.4444444444444444,
              "#bd3786"
             ],
             [
              0.5555555555555556,
              "#d8576b"
             ],
             [
              0.6666666666666666,
              "#ed7953"
             ],
             [
              0.7777777777777778,
              "#fb9f3a"
             ],
             [
              0.8888888888888888,
              "#fdca26"
             ],
             [
              1,
              "#f0f921"
             ]
            ],
            "type": "histogram2dcontour"
           }
          ],
          "mesh3d": [
           {
            "colorbar": {
             "outlinewidth": 0,
             "ticks": ""
            },
            "type": "mesh3d"
           }
          ],
          "parcoords": [
           {
            "line": {
             "colorbar": {
              "outlinewidth": 0,
              "ticks": ""
             }
            },
            "type": "parcoords"
           }
          ],
          "pie": [
           {
            "automargin": true,
            "type": "pie"
           }
          ],
          "scatter": [
           {
            "marker": {
             "line": {
              "color": "#272b30"
             }
            },
            "type": "scatter"
           }
          ],
          "scatter3d": [
           {
            "line": {
             "colorbar": {
              "outlinewidth": 0,
              "ticks": ""
             }
            },
            "marker": {
             "colorbar": {
              "outlinewidth": 0,
              "ticks": ""
             }
            },
            "type": "scatter3d"
           }
          ],
          "scattercarpet": [
           {
            "marker": {
             "colorbar": {
              "outlinewidth": 0,
              "ticks": ""
             }
            },
            "type": "scattercarpet"
           }
          ],
          "scattergeo": [
           {
            "marker": {
             "colorbar": {
              "outlinewidth": 0,
              "ticks": ""
             }
            },
            "type": "scattergeo"
           }
          ],
          "scattergl": [
           {
            "marker": {
             "line": {
              "color": "#272b30"
             }
            },
            "type": "scattergl"
           }
          ],
          "scattermap": [
           {
            "marker": {
             "colorbar": {
              "outlinewidth": 0,
              "ticks": ""
             }
            },
            "type": "scattermap"
           }
          ],
          "scattermapbox": [
           {
            "marker": {
             "colorbar": {
              "outlinewidth": 0,
              "ticks": ""
             }
            },
            "type": "scattermapbox"
           }
          ],
          "scatterpolar": [
           {
            "marker": {
             "colorbar": {
              "outlinewidth": 0,
              "ticks": ""
             }
            },
            "type": "scatterpolar"
           }
          ],
          "scatterpolargl": [
           {
            "marker": {
             "colorbar": {
              "outlinewidth": 0,
              "ticks": ""
             }
            },
            "type": "scatterpolargl"
           }
          ],
          "scatterternary": [
           {
            "marker": {
             "colorbar": {
              "outlinewidth": 0,
              "ticks": ""
             }
            },
            "type": "scatterternary"
           }
          ],
          "surface": [
           {
            "colorbar": {
             "outlinewidth": 0,
             "ticks": ""
            },
            "colorscale": [
             [
              0,
              "#0d0887"
             ],
             [
              0.1111111111111111,
              "#46039f"
             ],
             [
              0.2222222222222222,
              "#7201a8"
             ],
             [
              0.3333333333333333,
              "#9c179e"
             ],
             [
              0.4444444444444444,
              "#bd3786"
             ],
             [
              0.5555555555555556,
              "#d8576b"
             ],
             [
              0.6666666666666666,
              "#ed7953"
             ],
             [
              0.7777777777777778,
              "#fb9f3a"
             ],
             [
              0.8888888888888888,
              "#fdca26"
             ],
             [
              1,
              "#f0f921"
             ]
            ],
            "type": "surface"
           }
          ],
          "table": [
           {
            "cells": {
             "fill": {
              "color": "#506784"
             },
             "line": {
              "color": "rgb(17,17,17)"
             }
            },
            "header": {
             "fill": {
              "color": "#2a3f5f"
             },
             "line": {
              "color": "rgb(17,17,17)"
             }
            },
            "type": "table"
           }
          ]
         },
         "layout": {
          "annotationdefaults": {
           "arrowcolor": "#f2f5fa",
           "arrowhead": 0,
           "arrowwidth": 1,
           "font": {
            "color": "#aaa"
           }
          },
          "autotypenumbers": "strict",
          "coloraxis": {
           "colorbar": {
            "outlinewidth": 0,
            "ticks": ""
           }
          },
          "colorscale": {
           "diverging": [
            [
             0,
             "#8e0152"
            ],
            [
             0.1,
             "#c51b7d"
            ],
            [
             0.2,
             "#de77ae"
            ],
            [
             0.3,
             "#f1b6da"
            ],
            [
             0.4,
             "#fde0ef"
            ],
            [
             0.5,
             "#f7f7f7"
            ],
            [
             0.6,
             "#e6f5d0"
            ],
            [
             0.7,
             "#b8e186"
            ],
            [
             0.8,
             "#7fbc41"
            ],
            [
             0.9,
             "#4d9221"
            ],
            [
             1,
             "#276419"
            ]
           ],
           "sequential": [
            [
             0,
             "#3a3f44"
            ],
            [
             0.1,
             "#52484b"
            ],
            [
             0.2,
             "#6a5053"
            ],
            [
             0.30000000000000004,
             "#82595a"
            ],
            [
             0.4,
             "#9a6262"
            ],
            [
             0.5,
             "#b26b69"
            ],
            [
             0.6000000000000001,
             "#c97370"
            ],
            [
             0.7000000000000001,
             "#e17c78"
            ],
            [
             0.8,
             "#f9857f"
            ],
            [
             0.9,
             "#ff8d86"
            ],
            [
             1,
             "#ff968e"
            ]
           ],
           "sequentialminus": [
            [
             0,
             "#0d0887"
            ],
            [
             0.1111111111111111,
             "#46039f"
            ],
            [
             0.2222222222222222,
             "#7201a8"
            ],
            [
             0.3333333333333333,
             "#9c179e"
            ],
            [
             0.4444444444444444,
             "#bd3786"
            ],
            [
             0.5555555555555556,
             "#d8576b"
            ],
            [
             0.6666666666666666,
             "#ed7953"
            ],
            [
             0.7777777777777778,
             "#fb9f3a"
            ],
            [
             0.8888888888888888,
             "#fdca26"
            ],
            [
             1,
             "#f0f921"
            ]
           ]
          },
          "colorway": [
           "#5d6167",
           "#bd3539",
           "#57c560",
           "#f19502",
           "#81d6f6"
          ],
          "font": {
           "color": "#aaa",
           "family": "system-ui,-apple-system,\"Segoe UI\",Roboto,\"Helvetica Neue\",\"Noto Sans\",\"Liberation Sans\",Arial,sans-serif,\"Apple Color Emoji\",\"Segoe UI Emoji\",\"Segoe UI Symbol\",\"Noto Color Emoji\""
          },
          "geo": {
           "bgcolor": "#272b30",
           "lakecolor": "#272b30",
           "landcolor": "#272b30",
           "showlakes": true,
           "showland": true,
           "subunitcolor": "#506784"
          },
          "hoverlabel": {
           "align": "left",
           "font": {
            "family": "system-ui,-apple-system,\"Segoe UI\",Roboto,\"Helvetica Neue\",\"Noto Sans\",\"Liberation Sans\",Arial,sans-serif,\"Apple Color Emoji\",\"Segoe UI Emoji\",\"Segoe UI Symbol\",\"Noto Color Emoji\""
           }
          },
          "hovermode": "closest",
          "mapbox": {
           "style": "dark"
          },
          "paper_bgcolor": "#32383e",
          "piecolorway": [
           "#5d6167",
           "#bd3539",
           "#57c560",
           "#f19502",
           "#81d6f6"
          ],
          "plot_bgcolor": "#272b30",
          "polar": {
           "angularaxis": {
            "gridcolor": "#506784",
            "linecolor": "#506784",
            "ticks": ""
           },
           "bgcolor": "rgb(17,17,17)",
           "radialaxis": {
            "gridcolor": "#506784",
            "linecolor": "#506784",
            "ticks": ""
           }
          },
          "scene": {
           "xaxis": {
            "backgroundcolor": "rgb(17,17,17)",
            "gridcolor": "#506784",
            "gridwidth": 2,
            "linecolor": "#506784",
            "showbackground": true,
            "ticks": "",
            "zerolinecolor": "#C8D4E3"
           },
           "yaxis": {
            "backgroundcolor": "rgb(17,17,17)",
            "gridcolor": "#506784",
            "gridwidth": 2,
            "linecolor": "#506784",
            "showbackground": true,
            "ticks": "",
            "zerolinecolor": "#C8D4E3"
           },
           "zaxis": {
            "backgroundcolor": "rgb(17,17,17)",
            "gridcolor": "#506784",
            "gridwidth": 2,
            "linecolor": "#506784",
            "showbackground": true,
            "ticks": "",
            "zerolinecolor": "#C8D4E3"
           }
          },
          "shapedefaults": {
           "line": {
            "color": "#f2f5fa"
           }
          },
          "sliderdefaults": {
           "bgcolor": "#C8D4E3",
           "bordercolor": "rgb(17,17,17)",
           "borderwidth": 1,
           "tickwidth": 0
          },
          "ternary": {
           "aaxis": {
            "gridcolor": "#506784",
            "linecolor": "#506784",
            "ticks": ""
           },
           "baxis": {
            "gridcolor": "#506784",
            "linecolor": "#506784",
            "ticks": ""
           },
           "bgcolor": "rgb(17,17,17)",
           "caxis": {
            "gridcolor": "#506784",
            "linecolor": "#506784",
            "ticks": ""
           }
          },
          "title": {
           "x": 0.05
          },
          "updatemenudefaults": {
           "bgcolor": "#506784",
           "borderwidth": 0
          },
          "xaxis": {
           "automargin": true,
           "gridcolor": "#31353a",
           "gridwidth": 0.5,
           "linecolor": "#506784",
           "ticks": "",
           "title": {
            "standoff": 15
           },
           "zerolinecolor": "#31353a",
           "zerolinewidth": 2
          },
          "yaxis": {
           "automargin": true,
           "gridcolor": "#31353a",
           "gridwidth": 0.5,
           "linecolor": "#506784",
           "ticks": "",
           "title": {
            "standoff": 15
           },
           "zerolinecolor": "#31353a",
           "zerolinewidth": 2
          }
         }
        },
        "xaxis": {
         "anchor": "y",
         "domain": [
          0,
          1
         ],
         "title": {
          "text": "Resort"
         }
        },
        "yaxis": {
         "anchor": "x",
         "domain": [
          0,
          1
         ],
         "title": {
          "text": "Price"
         }
        }
       }
      }
     },
     "metadata": {},
     "output_type": "display_data"
    }
   ],
   "source": [
    "top10 = resorts.sort_values('Price', ascending=False).head(10)\n",
    "fig = px.bar(\n",
    "    \n",
    "    top10,\n",
    "    x=top10['Resort'],\n",
    "    y=top10['Price']\n",
    ")\n",
    "# fig.update_layout(map_style=\"https://tiles.stadiamaps.com/styles/stamen_terrain.json\")\n",
    "fig.show()"
   ]
  },
  {
   "cell_type": "code",
   "execution_count": 1332,
   "id": "057c0c91",
   "metadata": {},
   "outputs": [],
   "source": [
    "app.layout = dbc.Container([\n",
    "    dcc.Markdown(id=\"Markdown Title\"),\n",
    "    html.Br(),\n",
    "\n",
    "    dcc.Tabs([\n",
    "        dcc.Tab(\n",
    "            [\n",
    "            dbc.Row([html.Br()]),\n",
    "                dbc.Row([html.H1('Global Ski Resort Density',\n",
    "                        style={\"text-align\": 'center'})]),\n",
    "            dbc.Row([html.Br()]),\n",
    "            dbc.Row([\n",
    "                dbc.Col([\n",
    "                    dbc.Row([dcc.RangeSlider(\n",
    "                    id='price',\n",
    "                    min=resorts['Price'].min(),\n",
    "                    max=resorts['Price'].max(),\n",
    "                    step=15,\n",
    "                    value=[0, resorts['Price'].max()]\n",
    "                )]),\n",
    "                dbc.Row([html.Br()]),\n",
    "                dbc.Row([dcc.Checklist(\n",
    "                    id='summer_skiing',\n",
    "                    options=[{'label': 'Summer Skiing', 'value': True}],\n",
    "                    value=[]\n",
    "                )]),\n",
    "                dbc.Row([dcc.Checklist(\n",
    "                    id='night_skiing',\n",
    "                    options=[{'label': 'Night Skiing', 'value': True}],\n",
    "                    value=[]\n",
    "                )]),\n",
    "                dbc.Row([dcc.Checklist(\n",
    "                    id='snowparks',\n",
    "                    options=[{'label': 'Snowparks', 'value': True}],\n",
    "                    value=[]\n",
    "                )])],\n",
    "                width=3),\n",
    "                dbc.Col(dbc.Card(dcc.Graph(id='ski_slope_density')))\n",
    "            ])],\n",
    "            label = \"World Map\"\n",
    "        ),\n",
    "        dcc.Tab(\n",
    "            [\n",
    "            dbc.Row([html.Br()]),\n",
    "            dbc.Row([html.H1(id='tab2_title', style={\"text-align\": 'center'})]),\n",
    "            dbc.Row([html.Br()]),\n",
    "            dbc.Row([\n",
    "                dbc.Col([\n",
    "                    dcc.Markdown('Select Continent:'),\n",
    "                    dcc.Dropdown(\n",
    "                        id='continent_dropdown',\n",
    "                        options=resorts['Continent'].unique(),\n",
    "                        value='Europe',\n",
    "                        ),\n",
    "                    html.Br(),\n",
    "                    dcc.Markdown('Select Country:'),\n",
    "                    dcc.Dropdown(\n",
    "                        id='country_dropdown', \n",
    "                        value='United Kingdom', \n",
    "                        ),\n",
    "                    html.Br(),\n",
    "                    dcc.Markdown('Select Metric:'),\n",
    "                    dcc.Dropdown(\n",
    "                        id='user_metric',\n",
    "                        options=['Price', 'Highest point', 'Lowest point', 'Lowest point', 'Beginner slopes',\n",
    "                                'Intermediate slopes', 'Difficult slopes', 'Total slopes',\n",
    "                                'Longest run'],\n",
    "                        value='Price',\n",
    "                    \n",
    "\n",
    "                    )\n",
    "                ], width=3),\n",
    "                dbc.Col(dbc.Card(dcc.Graph(id='top10_by_metric', hoverData={'points': [{'customdata': ['Nevis Range']}]})), width=6),\n",
    "                dbc.Col([\n",
    "                    dbc.Row(dbc.Card(html.H3(id='resort_title'))),\n",
    "                    dbc.Row(html.Br()),\n",
    "                    dbc.Row([dbc.Col(dbc.Card(html.H3(id='kpi_1'))),\n",
    "                            dbc.Col(dbc.Card(html.H3(id='kpi_2')))]),\n",
    "                    dbc.Row(html.Br()),\n",
    "                    dbc.Row([dbc.Col(dbc.Card(html.H3(id='kpi_3'))),\n",
    "                            dbc.Col(dbc.Card(html.H3(id='kpi_4')))]),\n",
    "                    ], \n",
    "                    width=3,\n",
    "                    style={\"text-align\": 'center', 'fontSize': 20}\n",
    "                )\n",
    "            ]),\n",
    "            ],\n",
    "            label=\"Bar Chart\"\n",
    "            \n",
    "        )\n",
    "    ],\n",
    "    className='dbc')\n",
    "    \n",
    "])"
   ]
  },
  {
   "cell_type": "code",
   "execution_count": 1333,
   "id": "c1caf8b9",
   "metadata": {},
   "outputs": [],
   "source": [
    "@app.callback(Output(\"country_dropdown\", \"options\"), \n",
    "              Input('continent_dropdown', 'value'))\n",
    "def set_country_option(continent):\n",
    "    countries = continents_to_countries(continent, resorts)\n",
    "    return countries"
   ]
  },
  {
   "cell_type": "code",
   "execution_count": 1334,
   "id": "ee4e27b1",
   "metadata": {},
   "outputs": [],
   "source": [
    "@app.callback(Output(\"ski_slope_density\", \"figure\"), \n",
    "              Input('price', 'value'), \n",
    "              Input('summer_skiing', 'value'), \n",
    "              Input('night_skiing', 'value'),\n",
    "              Input('snowparks', 'value'))\n",
    "def state_graph(price, summer_skiing, night_skiing, snowparks):\n",
    "\n",
    "    df = resorts.query(\n",
    "        \"@price[0] <= Price <= @price[1]\")\n",
    "    \n",
    "    if True in summer_skiing:\n",
    "        df = df.loc[df['Summer skiing'] == True]\n",
    "\n",
    "    if True in night_skiing:\n",
    "        df = df.loc[df['Nightskiing'] == True]\n",
    "\n",
    "    if True in snowparks:\n",
    "        df = df.loc[df['Snowparks'] == True]\n",
    "\n",
    "\n",
    "    fig = px.density_map(\n",
    "        df,\n",
    "        lat=\"Latitude\",\n",
    "        lon=\"Longitude\",\n",
    "        z='Total slopes',\n",
    "        radius=15,\n",
    "        center={'lat': 54.15, 'lon': 18.64},\n",
    "        zoom=2\n",
    "    )\n",
    "    return fig"
   ]
  },
  {
   "cell_type": "code",
   "execution_count": 1335,
   "id": "df367e71",
   "metadata": {},
   "outputs": [],
   "source": [
    "@app.callback(Output(\"top10_by_metric\", \"figure\"),\n",
    "              Output(\"tab2_title\", 'children'),\n",
    "              Input('user_metric', 'value'),\n",
    "              Input('country_dropdown', 'value'))\n",
    "def resort_details(metric, country):\n",
    "    if not country:\n",
    "        raise PreventUpdate\n",
    "    \n",
    "    title = f\"Top 10 Resorts in {country} by {metric}\"\n",
    "    country_resorts = resorts[resorts['Country'] == country]\n",
    "    top10 = country_resorts.sort_values(f'{metric}', ascending=False).head(10)\n",
    "    fig = px.bar(\n",
    "        top10,\n",
    "        x='Resort',\n",
    "        y=f'{metric}',\n",
    "        hover_name='Resort',\n",
    "        custom_data=['Resort']\n",
    "    )\n",
    "    fig.update_xaxes(showticklabels=False)\n",
    "    return fig, title"
   ]
  },
  {
   "cell_type": "code",
   "execution_count": 1336,
   "id": "a84b4310",
   "metadata": {},
   "outputs": [],
   "source": [
    "\n",
    "@app.callback(Output(\"resort_title\", 'children'),\n",
    "              Output(\"kpi_1\", 'children'),\n",
    "              Output(\"kpi_2\", 'children'),\n",
    "              Output(\"kpi_3\", 'children'),\n",
    "              Output(\"kpi_4\", 'children'),\n",
    "              Input('top10_by_metric', 'hoverData'))\n",
    "def report_card(hoverData):\n",
    "\n",
    "    resort_name = hoverData['points'][0]['customdata'][0]\n",
    "\n",
    "    resort = resorts[resorts['Resort'] == resort_name]\n",
    "\n",
    "    title = f'{resort_name}'\n",
    "    price = f\"Price Ranking: {str(int(resort['country_price_rank'].iloc[0]))}\"\n",
    "    elevation = f\"Elevation Ranking: {str(int(resort['country_elevation_rank'].iloc[0]))}\"\n",
    "    slope = f\"Slope Ranking: {str(int(resort['country_slope_rank'].iloc[0]))}\"\n",
    "    cannon = f\"Cannon Ranking: {str(int(resort['country_cannon_rank'].iloc[0]))}\"\n",
    "\n",
    "    return title, price, elevation, slope, cannon"
   ]
  },
  {
   "cell_type": "code",
   "execution_count": 1337,
   "id": "2fde3d8f",
   "metadata": {},
   "outputs": [
    {
     "data": {
      "text/html": [
       "\n",
       "        <iframe\n",
       "            width=\"100%\"\n",
       "            height=\"650\"\n",
       "            src=\"http://127.0.0.1:8052/\"\n",
       "            frameborder=\"0\"\n",
       "            allowfullscreen\n",
       "            \n",
       "        ></iframe>\n",
       "        "
      ],
      "text/plain": [
       "<IPython.lib.display.IFrame at 0x153f241c0>"
      ]
     },
     "metadata": {},
     "output_type": "display_data"
    }
   ],
   "source": [
    "if __name__ == '__main__':\n",
    "    app.run(port=8052)"
   ]
  }
 ],
 "metadata": {
  "kernelspec": {
   "display_name": "venv (3.9.6)",
   "language": "python",
   "name": "python3"
  },
  "language_info": {
   "codemirror_mode": {
    "name": "ipython",
    "version": 3
   },
   "file_extension": ".py",
   "mimetype": "text/x-python",
   "name": "python",
   "nbconvert_exporter": "python",
   "pygments_lexer": "ipython3",
   "version": "3.9.6"
  }
 },
 "nbformat": 4,
 "nbformat_minor": 5
}
