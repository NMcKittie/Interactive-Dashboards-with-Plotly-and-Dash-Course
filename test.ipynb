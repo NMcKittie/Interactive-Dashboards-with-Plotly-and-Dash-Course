{
 "cells": [
  {
   "cell_type": "markdown",
   "id": "1a15a460",
   "metadata": {},
   "source": []
  },
  {
   "cell_type": "markdown",
   "id": "0e9ad00d",
   "metadata": {},
   "source": [
    "Requirements and an empty application"
   ]
  },
  {
   "cell_type": "code",
   "execution_count": 8,
   "id": "6bed25a3",
   "metadata": {},
   "outputs": [],
   "source": [
    "import plotly as pl\n",
    "from dash import Dash, dcc, html\n",
    "from dash.dependencies import Input, Output\n",
    "\n",
    "app = Dash(__name__)"
   ]
  },
  {
   "cell_type": "markdown",
   "id": "b445ba60",
   "metadata": {},
   "source": [
    "Frontend of the Dash web application"
   ]
  },
  {
   "cell_type": "code",
   "execution_count": 9,
   "id": "65bf2d39",
   "metadata": {},
   "outputs": [],
   "source": [
    "\n",
    "app.layout = html.Div([\n",
    "    html.H2(children='Hello Dash'),\n",
    "    dcc.Dropdown(),\n",
    "    dcc.Graph()\n",
    "])"
   ]
  },
  {
   "cell_type": "markdown",
   "id": "c5d137ee",
   "metadata": {},
   "source": [
    "Backend of the Dash application"
   ]
  },
  {
   "cell_type": "code",
   "execution_count": 10,
   "id": "f9721b38",
   "metadata": {},
   "outputs": [],
   "source": [
    "# @app.callback(Output(), Input())\n",
    "# def interactive_chart(input):\n",
    "#     return output"
   ]
  },
  {
   "cell_type": "markdown",
   "id": "aae5bddf",
   "metadata": {},
   "source": [
    "Runs the app"
   ]
  },
  {
   "cell_type": "code",
   "execution_count": 11,
   "id": "ea1b33ec",
   "metadata": {},
   "outputs": [
    {
     "data": {
      "text/html": [
       "\n",
       "        <iframe\n",
       "            width=\"100%\"\n",
       "            height=\"650\"\n",
       "            src=\"http://127.0.0.1:8052/\"\n",
       "            frameborder=\"0\"\n",
       "            allowfullscreen\n",
       "            \n",
       "        ></iframe>\n",
       "        "
      ],
      "text/plain": [
       "<IPython.lib.display.IFrame at 0x10b15eaf0>"
      ]
     },
     "metadata": {},
     "output_type": "display_data"
    }
   ],
   "source": [
    "if __name__ == '__main__':\n",
    "    app.run(port=8052)"
   ]
  }
 ],
 "metadata": {
  "kernelspec": {
   "display_name": "venv",
   "language": "python",
   "name": "python3"
  },
  "language_info": {
   "codemirror_mode": {
    "name": "ipython",
    "version": 3
   },
   "file_extension": ".py",
   "mimetype": "text/x-python",
   "name": "python",
   "nbconvert_exporter": "python",
   "pygments_lexer": "ipython3",
   "version": "3.9.6"
  }
 },
 "nbformat": 4,
 "nbformat_minor": 5
}
